{
  "nbformat": 4,
  "nbformat_minor": 0,
  "metadata": {
    "colab": {
      "provenance": [],
      "authorship_tag": "ABX9TyO4y3dNza6v+L4IP4M27CD/",
      "include_colab_link": true
    },
    "kernelspec": {
      "name": "python3",
      "display_name": "Python 3"
    },
    "language_info": {
      "name": "python"
    }
  },
  "cells": [
    {
      "cell_type": "markdown",
      "metadata": {
        "id": "view-in-github",
        "colab_type": "text"
      },
      "source": [
        "<a href=\"https://colab.research.google.com/github/richbello/sena_ggpc/blob/main/Consolidar_Excel.ipynb\" target=\"_parent\"><img src=\"https://colab.research.google.com/assets/colab-badge.svg\" alt=\"Open In Colab\"/></a>"
      ]
    },
    {
      "cell_type": "code",
      "source": [
        "pip install pandas openpyxl\n"
      ],
      "metadata": {
        "colab": {
          "base_uri": "https://localhost:8080/"
        },
        "id": "LgrcBnfAmCKn",
        "outputId": "99a31862-2c8a-4c1a-90fc-ea757ca97ed9"
      },
      "execution_count": 2,
      "outputs": [
        {
          "output_type": "stream",
          "name": "stdout",
          "text": [
            "Requirement already satisfied: pandas in /usr/local/lib/python3.11/dist-packages (2.2.2)\n",
            "Requirement already satisfied: openpyxl in /usr/local/lib/python3.11/dist-packages (3.1.5)\n",
            "Requirement already satisfied: numpy>=1.23.2 in /usr/local/lib/python3.11/dist-packages (from pandas) (2.0.2)\n",
            "Requirement already satisfied: python-dateutil>=2.8.2 in /usr/local/lib/python3.11/dist-packages (from pandas) (2.9.0.post0)\n",
            "Requirement already satisfied: pytz>=2020.1 in /usr/local/lib/python3.11/dist-packages (from pandas) (2025.2)\n",
            "Requirement already satisfied: tzdata>=2022.7 in /usr/local/lib/python3.11/dist-packages (from pandas) (2025.2)\n",
            "Requirement already satisfied: et-xmlfile in /usr/local/lib/python3.11/dist-packages (from openpyxl) (2.0.0)\n",
            "Requirement already satisfied: six>=1.5 in /usr/local/lib/python3.11/dist-packages (from python-dateutil>=2.8.2->pandas) (1.17.0)\n"
          ]
        }
      ]
    },
    {
      "cell_type": "code",
      "source": [
        "import pandas as pd\n",
        "import os\n",
        "\n",
        "# Ruta a la carpeta que contiene los 41 archivos Excel\n",
        "carpeta = r\"C:\\RICHARD\\FDL\\Sena\\Registros Beneficiarios\\FINAL ABRIL 2025\\REGISTRO DE BENEFICIARIOS\"\n",
        "\n",
        "# Verificar si la ruta existe\n",
        "if not os.path.exists(carpeta):\n",
        "    print(\"❌ La carpeta no existe. Verifica la ruta.\")\n",
        "else:\n",
        "    print(\"✅ Carpeta encontrada. Iniciando consolidación...\")\n",
        "\n",
        "    dataframes = []\n",
        "\n",
        "    for archivo in os.listdir(carpeta):\n",
        "        if archivo.endswith((\".xlsx\", \".xls\")):\n",
        "            ruta_archivo = os.path.join(carpeta, archivo)\n",
        "            try:\n",
        "                df = pd.read_excel(ruta_archivo, engine='openpyxl')  # Usa engine explícitamente\n",
        "                df['Archivo_Origen'] = archivo  # Para saber de qué archivo viene cada fila\n",
        "                dataframes.append(df)\n",
        "            except Exception as e:\n",
        "                print(f\"⚠️ Error al leer {archivo}: {e}\")\n",
        "\n",
        "    # Este bloque debe estar FUERA del for\n",
        "    if dataframes:\n",
        "        consolidado = pd.concat(dataframes, ignore_index=True)\n",
        "\n",
        "        # Elimina filas completamente vacías\n",
        "        consolidado.dropna(how='all', inplace=True)\n",
        "\n",
        "        # Ruta de salida del archivo consolidado\n",
        "        ruta_salida = os.path.join(carpeta, \"Consolidado_Beneficiarios_Abril2025.xlsx\")\n",
        "        consolidado.to_excel(ruta_salida, index=False)\n",
        "\n",
        "        print(f\"✅ Consolidación completa. Archivo guardado en:\\n{ruta_salida}\")\n",
        "    else:\n",
        "        print(\"❌ No se encontraron archivos Excel válidos para consolidar.\")\n"
      ],
      "metadata": {
        "colab": {
          "base_uri": "https://localhost:8080/"
        },
        "id": "SOzssUIgmyEV",
        "outputId": "24281cac-c82a-491a-b562-87ad8c0db5b4"
      },
      "execution_count": 6,
      "outputs": [
        {
          "output_type": "stream",
          "name": "stdout",
          "text": [
            "❌ La carpeta no existe. Verifica la ruta.\n"
          ]
        }
      ]
    },
    {
      "cell_type": "code",
      "source": [
        "from google.colab import files\n",
        "uploaded = files.upload()\n"
      ],
      "metadata": {
        "colab": {
          "base_uri": "https://localhost:8080/",
          "height": 1000
        },
        "id": "SEVabEkJm7BE",
        "outputId": "337e0a2e-f9f2-4adf-e5c0-0de53b1d2e17"
      },
      "execution_count": 7,
      "outputs": [
        {
          "output_type": "display_data",
          "data": {
            "text/plain": [
              "<IPython.core.display.HTML object>"
            ],
            "text/html": [
              "\n",
              "     <input type=\"file\" id=\"files-566573cf-22bf-43d5-9ac6-5db091784c3e\" name=\"files[]\" multiple disabled\n",
              "        style=\"border:none\" />\n",
              "     <output id=\"result-566573cf-22bf-43d5-9ac6-5db091784c3e\">\n",
              "      Upload widget is only available when the cell has been executed in the\n",
              "      current browser session. Please rerun this cell to enable.\n",
              "      </output>\n",
              "      <script>// Copyright 2017 Google LLC\n",
              "//\n",
              "// Licensed under the Apache License, Version 2.0 (the \"License\");\n",
              "// you may not use this file except in compliance with the License.\n",
              "// You may obtain a copy of the License at\n",
              "//\n",
              "//      http://www.apache.org/licenses/LICENSE-2.0\n",
              "//\n",
              "// Unless required by applicable law or agreed to in writing, software\n",
              "// distributed under the License is distributed on an \"AS IS\" BASIS,\n",
              "// WITHOUT WARRANTIES OR CONDITIONS OF ANY KIND, either express or implied.\n",
              "// See the License for the specific language governing permissions and\n",
              "// limitations under the License.\n",
              "\n",
              "/**\n",
              " * @fileoverview Helpers for google.colab Python module.\n",
              " */\n",
              "(function(scope) {\n",
              "function span(text, styleAttributes = {}) {\n",
              "  const element = document.createElement('span');\n",
              "  element.textContent = text;\n",
              "  for (const key of Object.keys(styleAttributes)) {\n",
              "    element.style[key] = styleAttributes[key];\n",
              "  }\n",
              "  return element;\n",
              "}\n",
              "\n",
              "// Max number of bytes which will be uploaded at a time.\n",
              "const MAX_PAYLOAD_SIZE = 100 * 1024;\n",
              "\n",
              "function _uploadFiles(inputId, outputId) {\n",
              "  const steps = uploadFilesStep(inputId, outputId);\n",
              "  const outputElement = document.getElementById(outputId);\n",
              "  // Cache steps on the outputElement to make it available for the next call\n",
              "  // to uploadFilesContinue from Python.\n",
              "  outputElement.steps = steps;\n",
              "\n",
              "  return _uploadFilesContinue(outputId);\n",
              "}\n",
              "\n",
              "// This is roughly an async generator (not supported in the browser yet),\n",
              "// where there are multiple asynchronous steps and the Python side is going\n",
              "// to poll for completion of each step.\n",
              "// This uses a Promise to block the python side on completion of each step,\n",
              "// then passes the result of the previous step as the input to the next step.\n",
              "function _uploadFilesContinue(outputId) {\n",
              "  const outputElement = document.getElementById(outputId);\n",
              "  const steps = outputElement.steps;\n",
              "\n",
              "  const next = steps.next(outputElement.lastPromiseValue);\n",
              "  return Promise.resolve(next.value.promise).then((value) => {\n",
              "    // Cache the last promise value to make it available to the next\n",
              "    // step of the generator.\n",
              "    outputElement.lastPromiseValue = value;\n",
              "    return next.value.response;\n",
              "  });\n",
              "}\n",
              "\n",
              "/**\n",
              " * Generator function which is called between each async step of the upload\n",
              " * process.\n",
              " * @param {string} inputId Element ID of the input file picker element.\n",
              " * @param {string} outputId Element ID of the output display.\n",
              " * @return {!Iterable<!Object>} Iterable of next steps.\n",
              " */\n",
              "function* uploadFilesStep(inputId, outputId) {\n",
              "  const inputElement = document.getElementById(inputId);\n",
              "  inputElement.disabled = false;\n",
              "\n",
              "  const outputElement = document.getElementById(outputId);\n",
              "  outputElement.innerHTML = '';\n",
              "\n",
              "  const pickedPromise = new Promise((resolve) => {\n",
              "    inputElement.addEventListener('change', (e) => {\n",
              "      resolve(e.target.files);\n",
              "    });\n",
              "  });\n",
              "\n",
              "  const cancel = document.createElement('button');\n",
              "  inputElement.parentElement.appendChild(cancel);\n",
              "  cancel.textContent = 'Cancel upload';\n",
              "  const cancelPromise = new Promise((resolve) => {\n",
              "    cancel.onclick = () => {\n",
              "      resolve(null);\n",
              "    };\n",
              "  });\n",
              "\n",
              "  // Wait for the user to pick the files.\n",
              "  const files = yield {\n",
              "    promise: Promise.race([pickedPromise, cancelPromise]),\n",
              "    response: {\n",
              "      action: 'starting',\n",
              "    }\n",
              "  };\n",
              "\n",
              "  cancel.remove();\n",
              "\n",
              "  // Disable the input element since further picks are not allowed.\n",
              "  inputElement.disabled = true;\n",
              "\n",
              "  if (!files) {\n",
              "    return {\n",
              "      response: {\n",
              "        action: 'complete',\n",
              "      }\n",
              "    };\n",
              "  }\n",
              "\n",
              "  for (const file of files) {\n",
              "    const li = document.createElement('li');\n",
              "    li.append(span(file.name, {fontWeight: 'bold'}));\n",
              "    li.append(span(\n",
              "        `(${file.type || 'n/a'}) - ${file.size} bytes, ` +\n",
              "        `last modified: ${\n",
              "            file.lastModifiedDate ? file.lastModifiedDate.toLocaleDateString() :\n",
              "                                    'n/a'} - `));\n",
              "    const percent = span('0% done');\n",
              "    li.appendChild(percent);\n",
              "\n",
              "    outputElement.appendChild(li);\n",
              "\n",
              "    const fileDataPromise = new Promise((resolve) => {\n",
              "      const reader = new FileReader();\n",
              "      reader.onload = (e) => {\n",
              "        resolve(e.target.result);\n",
              "      };\n",
              "      reader.readAsArrayBuffer(file);\n",
              "    });\n",
              "    // Wait for the data to be ready.\n",
              "    let fileData = yield {\n",
              "      promise: fileDataPromise,\n",
              "      response: {\n",
              "        action: 'continue',\n",
              "      }\n",
              "    };\n",
              "\n",
              "    // Use a chunked sending to avoid message size limits. See b/62115660.\n",
              "    let position = 0;\n",
              "    do {\n",
              "      const length = Math.min(fileData.byteLength - position, MAX_PAYLOAD_SIZE);\n",
              "      const chunk = new Uint8Array(fileData, position, length);\n",
              "      position += length;\n",
              "\n",
              "      const base64 = btoa(String.fromCharCode.apply(null, chunk));\n",
              "      yield {\n",
              "        response: {\n",
              "          action: 'append',\n",
              "          file: file.name,\n",
              "          data: base64,\n",
              "        },\n",
              "      };\n",
              "\n",
              "      let percentDone = fileData.byteLength === 0 ?\n",
              "          100 :\n",
              "          Math.round((position / fileData.byteLength) * 100);\n",
              "      percent.textContent = `${percentDone}% done`;\n",
              "\n",
              "    } while (position < fileData.byteLength);\n",
              "  }\n",
              "\n",
              "  // All done.\n",
              "  yield {\n",
              "    response: {\n",
              "      action: 'complete',\n",
              "    }\n",
              "  };\n",
              "}\n",
              "\n",
              "scope.google = scope.google || {};\n",
              "scope.google.colab = scope.google.colab || {};\n",
              "scope.google.colab._files = {\n",
              "  _uploadFiles,\n",
              "  _uploadFilesContinue,\n",
              "};\n",
              "})(self);\n",
              "</script> "
            ]
          },
          "metadata": {}
        },
        {
          "output_type": "stream",
          "name": "stdout",
          "text": [
            "Saving ACASEP.xlsx to ACASEP.xlsx\n",
            "Saving ACESI.xlsx to ACESI.xlsx\n",
            "Saving ACIET.xlsx to ACIET.xlsx\n",
            "Saving ACODRES.xlsx to ACODRES.xlsx\n",
            "Saving ACOLAP.xlsx to ACOLAP.xlsx\n",
            "Saving ACOPLASTICOS.xlsx to ACOPLASTICOS.xlsx\n",
            "Saving AESA.xlsx to AESA.xlsx\n",
            "Saving AFIDG.xlsx to AFIDG.xlsx\n",
            "Saving AHK.xlsx to AHK.xlsx\n",
            "Saving ANALDEX.xlsx to ANALDEX.xlsx\n",
            "Saving ASCOOP.xlsx to ASCOOP.xlsx\n",
            "Saving ASENOF.xlsx to ASENOF.xlsx\n",
            "Saving ASOCODEM.xlsx to ASOCODEM.xlsx\n",
            "Saving ASODESING.xlsx to ASODESING.xlsx\n",
            "Saving ASOHOSVAL.xlsx to ASOHOSVAL.xlsx\n",
            "Saving ASOPARTES.xlsx to ASOPARTES.xlsx\n",
            "Saving BPO.xlsx to BPO.xlsx\n",
            "Saving BRITCHAM.xlsx to BRITCHAM.xlsx\n",
            "Saving CAMACOES.xlsx to CAMACOES.xlsx\n",
            "Saving CAMACOL.xlsx to CAMACOL.xlsx\n",
            "Saving CC BUCARAMANGA.xlsx to CC BUCARAMANGA.xlsx\n",
            "Saving CC BUGA.xlsx to CC BUGA.xlsx\n",
            "Saving CC CUCUTA.xlsx to CC CUCUTA.xlsx\n",
            "Saving CCCE.xlsx to CCCE.xlsx\n",
            "Saving CCI FRANCE.xlsx to CCI FRANCE.xlsx\n",
            "Saving CCV.xlsx to CCV.xlsx\n",
            "Saving COASPHARMA.xlsx to COASPHARMA.xlsx\n",
            "Saving CONACED.xlsx to CONACED.xlsx\n",
            "Saving COOPIDROGAS.xlsx to COOPIDROGAS.xlsx\n",
            "Saving CORUNIAMERICANA.xlsx to CORUNIAMERICANA.xlsx\n",
            "Saving COSESAM.xlsx to COSESAM.xlsx\n",
            "Saving ECCI.xlsx to ECCI.xlsx\n",
            "Saving FCM.xlsx to FCM.xlsx\n",
            "Saving FEDELAM.xlsx to FEDELAM.xlsx\n",
            "Saving FODESEP.xlsx to FODESEP.xlsx\n",
            "Saving JERONIMO MARTINS.xlsx to JERONIMO MARTINS.xlsx\n",
            "Saving SODIMAC.xlsx to SODIMAC.xlsx\n",
            "Saving UNDECO.xlsx to UNDECO.xlsx\n",
            "Saving UT CCF.xlsx to UT CCF.xlsx\n",
            "Saving UT KERALTY.xlsx to UT KERALTY.xlsx\n"
          ]
        }
      ]
    },
    {
      "cell_type": "code",
      "source": [
        "import pandas as pd\n",
        "import io\n",
        "\n",
        "# Lista para almacenar los DataFrames\n",
        "dataframes = []\n",
        "\n",
        "# Consolidar todos los archivos cargados\n",
        "for nombre_archivo, archivo in uploaded.items():\n",
        "    if nombre_archivo.endswith(('.xlsx', '.xls')):\n",
        "        try:\n",
        "            df = pd.read_excel(io.BytesIO(archivo))\n",
        "            df['Archivo_Origen'] = nombre_archivo  # Agrega una columna con el nombre del archivo\n",
        "            dataframes.append(df)\n",
        "        except Exception as e:\n",
        "            print(f\"❌ Error leyendo {nombre_archivo}: {e}\")\n",
        "\n",
        "# Unir todos los DataFrames\n",
        "if dataframes:\n",
        "    consolidado = pd.concat(dataframes, ignore_index=True)\n",
        "\n",
        "    # Eliminar filas completamente vacías\n",
        "    consolidado.dropna(how='all', inplace=True)\n",
        "\n",
        "    # Guardar el archivo consolidado\n",
        "    nombre_salida = \"Consolidado_Beneficiarios_Abril2025.xlsx\"\n",
        "    consolidado.to_excel(nombre_salida, index=False)\n",
        "\n",
        "    print(f\"✅ Consolidación completada. Archivo generado: {nombre_salida}\")\n",
        "else:\n",
        "    print(\"⚠️ No se encontraron archivos válidos para consolidar.\")\n"
      ],
      "metadata": {
        "colab": {
          "base_uri": "https://localhost:8080/"
        },
        "id": "Cjw8lTVnnYuF",
        "outputId": "ff7e37d8-3682-4dde-d011-037ddcfc1424"
      },
      "execution_count": 8,
      "outputs": [
        {
          "output_type": "stream",
          "name": "stdout",
          "text": [
            "✅ Consolidación completada. Archivo generado: Consolidado_Beneficiarios_Abril2025.xlsx\n"
          ]
        }
      ]
    },
    {
      "cell_type": "code",
      "source": [
        "from google.colab import files\n",
        "files.download(\"Consolidado_Beneficiarios_Abril2025.xlsx\")\n"
      ],
      "metadata": {
        "colab": {
          "base_uri": "https://localhost:8080/",
          "height": 17
        },
        "id": "K78rBduMoSML",
        "outputId": "a99058f8-5fa7-43e3-a63e-030a3bc5e00c"
      },
      "execution_count": 9,
      "outputs": [
        {
          "output_type": "display_data",
          "data": {
            "text/plain": [
              "<IPython.core.display.Javascript object>"
            ],
            "application/javascript": [
              "\n",
              "    async function download(id, filename, size) {\n",
              "      if (!google.colab.kernel.accessAllowed) {\n",
              "        return;\n",
              "      }\n",
              "      const div = document.createElement('div');\n",
              "      const label = document.createElement('label');\n",
              "      label.textContent = `Downloading \"${filename}\": `;\n",
              "      div.appendChild(label);\n",
              "      const progress = document.createElement('progress');\n",
              "      progress.max = size;\n",
              "      div.appendChild(progress);\n",
              "      document.body.appendChild(div);\n",
              "\n",
              "      const buffers = [];\n",
              "      let downloaded = 0;\n",
              "\n",
              "      const channel = await google.colab.kernel.comms.open(id);\n",
              "      // Send a message to notify the kernel that we're ready.\n",
              "      channel.send({})\n",
              "\n",
              "      for await (const message of channel.messages) {\n",
              "        // Send a message to notify the kernel that we're ready.\n",
              "        channel.send({})\n",
              "        if (message.buffers) {\n",
              "          for (const buffer of message.buffers) {\n",
              "            buffers.push(buffer);\n",
              "            downloaded += buffer.byteLength;\n",
              "            progress.value = downloaded;\n",
              "          }\n",
              "        }\n",
              "      }\n",
              "      const blob = new Blob(buffers, {type: 'application/binary'});\n",
              "      const a = document.createElement('a');\n",
              "      a.href = window.URL.createObjectURL(blob);\n",
              "      a.download = filename;\n",
              "      div.appendChild(a);\n",
              "      a.click();\n",
              "      div.remove();\n",
              "    }\n",
              "  "
            ]
          },
          "metadata": {}
        },
        {
          "output_type": "display_data",
          "data": {
            "text/plain": [
              "<IPython.core.display.Javascript object>"
            ],
            "application/javascript": [
              "download(\"download_f07b8f94-a436-48f7-a9ee-1d809924e246\", \"Consolidado_Beneficiarios_Abril2025.xlsx\", 15942977)"
            ]
          },
          "metadata": {}
        }
      ]
    }
  ]
}